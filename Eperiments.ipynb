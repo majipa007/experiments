{
  "nbformat": 4,
  "nbformat_minor": 0,
  "metadata": {
    "colab": {
      "provenance": []
    },
    "kernelspec": {
      "name": "python3",
      "display_name": "Python 3"
    },
    "language_info": {
      "name": "python"
    }
  },
  "cells": [
    {
      "cell_type": "markdown",
      "source": [
        "# Experiments"
      ],
      "metadata": {
        "id": "Vln8ebHIfu9-"
      }
    },
    {
      "cell_type": "markdown",
      "source": [
        "## Quesion 1\n",
        "### **Programs on selection and Iteration options**\n",
        "* Get an integer input from a user. If the number is odd, then find the factorial of a number and find the number of digits in the factorial of the number. If the number is even then check the number is palindome or not."
      ],
      "metadata": {
        "id": "ATvVEirmf_TN"
      }
    },
    {
      "cell_type": "code",
      "source": [
        "#Functions for micro processes\n",
        "\n",
        "def factorial(n):\n",
        "    if n == 0:\n",
        "        return 1\n",
        "    else:\n",
        "        return n * factorial(n-1)\n",
        "\n",
        "def count_digits(number):\n",
        "    count = 0\n",
        "    while number != 0:\n",
        "        number //= 10\n",
        "        count += 1\n",
        "    return count\n",
        "\n",
        "def is_palindrome(number):\n",
        "    num_str = str(number)\n",
        "    return num_str == num_str[::-1]\n",
        "\n",
        "# Start of the program\n",
        "num = int(input(\"Enter an integer: \"))\n",
        "\n",
        "if num % 2 == 1:  # Odd number\n",
        "    fact = factorial(num)\n",
        "    digit_count = count_digits(fact)\n",
        "    print(f\"The factorial of {num} is: {fact}\")\n",
        "    print(f\"The number of digits in the factorial of {num} is: {digit_count}\")\n",
        "else:  # Even number\n",
        "    if is_palindrome(num):\n",
        "        print(f\"{num} is a palindrome.\")\n",
        "    else:\n",
        "        print(f\"{num} is not a palindrome.\")\n",
        "\n"
      ],
      "metadata": {
        "colab": {
          "base_uri": "https://localhost:8080/"
        },
        "id": "MPY-VBFNfyKm",
        "outputId": "4b744d7f-a0a8-4b7b-9e94-51229ded2353"
      },
      "execution_count": 3,
      "outputs": [
        {
          "output_type": "stream",
          "name": "stdout",
          "text": [
            "Enter an integer: 8\n",
            "8 is a palindrome.\n"
          ]
        }
      ]
    },
    {
      "cell_type": "markdown",
      "source": [
        "## Quesion 2\n",
        "### **String and is operaions**\n",
        "* Given two strings, PRINT (YES or NO) weaher he second string can be obtained from he first by deleteion of none, one or more characters."
      ],
      "metadata": {
        "id": "05tv8glYiwxi"
      }
    },
    {
      "cell_type": "code",
      "source": [
        "def subset_checker(population, sample):\n",
        "  for i in range(len(population)):\n",
        "    if population[i] == sample[0]:\n",
        "      if population[i:i+len(sample)] == sample:\n",
        "        return True\n",
        "  return False\n",
        "\n",
        "inp = input()\n",
        "inp = inp.lower()\n",
        "text = \"METHIONYLTHREONYLTHREONYGLUTAMINYLARGINYLISOLEUCINE\"\n",
        "text = text.lower()\n",
        "\n",
        "subset_checker(text, inp)"
      ],
      "metadata": {
        "colab": {
          "base_uri": "https://localhost:8080/"
        },
        "id": "MhYxV8jTjcZD",
        "outputId": "74d89dc8-6144-47dd-fbde-c39f25408b18"
      },
      "execution_count": 5,
      "outputs": [
        {
          "name": "stdout",
          "output_type": "stream",
          "text": [
            "tami\n"
          ]
        },
        {
          "output_type": "execute_result",
          "data": {
            "text/plain": [
              "True"
            ]
          },
          "metadata": {},
          "execution_count": 5
        }
      ]
    },
    {
      "cell_type": "markdown",
      "source": [
        "## Quesion 3\n",
        "### **List and its operations**\n",
        "* Program for positive and negative indexing\n",
        "* Program to check if the given list is in ascending order or not"
      ],
      "metadata": {
        "id": "fAo6xmZ-pIpZ"
      }
    },
    {
      "cell_type": "code",
      "source": [
        "lis = [1, 3, 5, 7, 8, 4]\n",
        "\n",
        "print(lis[2])\n",
        "print(lis[-1])\n",
        "print(lis[1:4])\n",
        "print(lis[1:4:2])"
      ],
      "metadata": {
        "colab": {
          "base_uri": "https://localhost:8080/"
        },
        "id": "mAcmq0OuneoZ",
        "outputId": "55e645a9-9726-40fc-b521-251b38fedfc9"
      },
      "execution_count": 6,
      "outputs": [
        {
          "output_type": "stream",
          "name": "stdout",
          "text": [
            "5\n",
            "4\n",
            "[3, 5, 7]\n",
            "[3, 7]\n"
          ]
        }
      ]
    },
    {
      "cell_type": "code",
      "source": [
        "lis = [1, 2, 3, 4, 5, 6, 7, 8,9]\n",
        "lis1 = [1, 3, 4, 6, 5, 7, 9, 8]\n",
        "\n",
        "def asc_checker(lis):\n",
        "  for i in range(len(lis)-1):\n",
        "    if lis[i]>lis[i+1]:\n",
        "      return False\n",
        "  return True\n",
        "\n",
        "print(asc_checker(lis))\n",
        "print(asc_checker(lis1))"
      ],
      "metadata": {
        "colab": {
          "base_uri": "https://localhost:8080/"
        },
        "id": "CUEtrAloqdTf",
        "outputId": "621bb697-5cbb-4bc2-f0f1-d6aa37f2fdda"
      },
      "execution_count": 7,
      "outputs": [
        {
          "output_type": "stream",
          "name": "stdout",
          "text": [
            "True\n",
            "False\n"
          ]
        }
      ]
    },
    {
      "cell_type": "markdown",
      "source": [
        "## Quesion 4\n",
        "### **Tuples and its operations**\n",
        "* Program for converting tuple to string\n",
        "* Program to reverse a tuple"
      ],
      "metadata": {
        "id": "mfQVp7Cer81M"
      }
    },
    {
      "cell_type": "code",
      "source": [
        "def tup_str(n):\n",
        "  string = \"\"\n",
        "  for i in tup:\n",
        "    string = string + \" \" + i\n",
        "  return string\n",
        "\n",
        "tup = ('Hi', 'to', 'the', 'world', '!')\n",
        "\n",
        "tup_str(tup)"
      ],
      "metadata": {
        "colab": {
          "base_uri": "https://localhost:8080/",
          "height": 38
        },
        "id": "DsqkxVLBsJFu",
        "outputId": "997f1b8d-92e5-4379-f5a1-e07d02c3166a"
      },
      "execution_count": 8,
      "outputs": [
        {
          "output_type": "execute_result",
          "data": {
            "text/plain": [
              "' Hi to the world !'"
            ],
            "application/vnd.google.colaboratory.intrinsic+json": {
              "type": "string"
            }
          },
          "metadata": {},
          "execution_count": 8
        }
      ]
    },
    {
      "cell_type": "code",
      "source": [
        "def reverse_tuple(tuple_data):\n",
        "    reversed_tuple = tuple_data[::-1]\n",
        "    return reversed_tuple\n",
        "\n",
        "# Example usage\n",
        "my_tuple = (1, 2, 3, 4, 5)\n",
        "reversed_tuple = reverse_tuple(my_tuple)\n",
        "\n",
        "print(reversed_tuple)"
      ],
      "metadata": {
        "colab": {
          "base_uri": "https://localhost:8080/"
        },
        "id": "edEQcdZxtcug",
        "outputId": "1382bf12-cf7b-4f37-ba44-1d63c0b777ca"
      },
      "execution_count": 9,
      "outputs": [
        {
          "output_type": "stream",
          "name": "stdout",
          "text": [
            "(5, 4, 3, 2, 1)\n"
          ]
        }
      ]
    },
    {
      "cell_type": "markdown",
      "source": [
        "## Quesion 5\n",
        "### **Sets and its operations**\n",
        "* Program to check if a set is a subset of the other set"
      ],
      "metadata": {
        "id": "78AT9mN0v_h8"
      }
    },
    {
      "cell_type": "code",
      "source": [
        "def subset(set1, set2):\n",
        "    for i in set1:\n",
        "        if i not in set2:\n",
        "            return False\n",
        "    return True\n",
        "\n",
        "# Example usage\n",
        "set1 = {1, 2, 3, 4, 5}\n",
        "set2 = {3, 4}\n",
        "set3 = {9, 10}\n",
        "\n",
        "\n",
        "temp = subset(set2, set1)\n",
        "print(temp)\n",
        "temp = subset(set3, set1)\n",
        "print(temp)\n"
      ],
      "metadata": {
        "colab": {
          "base_uri": "https://localhost:8080/"
        },
        "id": "SYbbqRvjv1Os",
        "outputId": "7a245a1b-54a8-4640-dfb1-7de47d1d2003"
      },
      "execution_count": 10,
      "outputs": [
        {
          "output_type": "stream",
          "name": "stdout",
          "text": [
            "True\n",
            "False\n"
          ]
        }
      ]
    },
    {
      "cell_type": "markdown",
      "source": [
        "## Quesion 6\n",
        "### **Dictionary and its operations**\n",
        "* python program to iterate over dictionaries using for loop\n",
        "\n"
      ],
      "metadata": {
        "id": "3Y8nlHTsKp4y"
      }
    },
    {
      "cell_type": "code",
      "source": [
        "my_dict = {'ram': 'sita', 'krishna': 'radha', 'shiva': 'parvati'}\n",
        "\n",
        "# Iterating over the dictionary using a for loop\n",
        "for key in my_dict:\n",
        "    value = my_dict[key]\n",
        "    print(key, ':', value)\n"
      ],
      "metadata": {
        "id": "aqfQEheOw4Lw",
        "colab": {
          "base_uri": "https://localhost:8080/"
        },
        "outputId": "f5de535b-07f9-42d8-bc00-c50b58c92231"
      },
      "execution_count": 11,
      "outputs": [
        {
          "output_type": "stream",
          "name": "stdout",
          "text": [
            "ram : sita\n",
            "krishna : radha\n",
            "shiva : parvati\n"
          ]
        }
      ]
    }
  ]
}